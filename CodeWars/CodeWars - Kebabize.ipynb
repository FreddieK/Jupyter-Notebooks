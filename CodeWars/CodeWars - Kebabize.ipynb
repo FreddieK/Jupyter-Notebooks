{
 "cells": [
  {
   "cell_type": "markdown",
   "metadata": {},
   "source": [
    "## Python is Awesome!\n",
    "Every now and then, I visit [CodeWars](https://www.codewars.com) and try some Katas to get inspired and hopefully learn some new tricks in Python.\n",
    "\n",
    "Both figuring out a solution yourself is rewarding, but comparing your solution afterwards to others is where it really shines and where you learn to really make the most out of Python as a language, and do some code review on your own code.\n",
    "\n",
    "One of this weeks challenges was [_Kebabize_](https://www.codewars.com/kata/57f8ff867a28db569e000c4a) and is about string transformation. Below is my initial solution;"
   ]
  },
  {
   "cell_type": "code",
   "execution_count": 108,
   "metadata": {},
   "outputs": [],
   "source": [
    "def kebabize_v1(string):\n",
    "    string = ['-' + char.lower() if char.isupper() else char for char in string]\n",
    "    string = [char if not char.isdigit() else '' for char in string]\n",
    "    string = ''.join(string)\n",
    "    string = string.strip('-')\n",
    "    \n",
    "    return string\n",
    "\n",
    "assert(kebabize_v1('myCamelCasedString') == 'my-camel-cased-string')\n",
    "assert(kebabize_v1('myCamelHas3Humps') == 'my-camel-has-humps')\n",
    "assert(kebabize_v1('SOS') == 's-o-s')\n",
    "assert(kebabize_v1('42') == '')\n",
    "assert(kebabize_v1('CodeWars') == 'code-wars')"
   ]
  },
  {
   "cell_type": "markdown",
   "metadata": {},
   "source": [
    "### Improvements\n",
    "This solution runs fine and I don't think it's horrible, but after comparing to some of the other solutions on the page there is definitely room for some improvements.\n",
    "\n",
    "1. [`not char.isdigit()`](https://docs.python.org/3/library/stdtypes.html#str.isdigit) might be replaced by [`char.isalpha()`](https://docs.python.org/3/library/stdtypes.html#str.isalpha) for a more general check and a lighter cognitive load by removing the negated logic statement, though it wasn't needed in this specific challenge.\n",
    "\n",
    "2. It's quite verbose, let's look at how we can reduce the loc a bit."
   ]
  },
  {
   "cell_type": "code",
   "execution_count": 109,
   "metadata": {},
   "outputs": [],
   "source": [
    "def kebabize_v2(string):\n",
    "    string = ['-' + char.lower() if char.isupper() else char for char in string if char.isalpha()]\n",
    "    string = ''.join(string).strip('-')\n",
    "    \n",
    "    return string\n",
    "\n",
    "assert(kebabize_v2('myCamelCasedString') == 'my-camel-cased-string')\n",
    "assert(kebabize_v2('myCamelHas3Humps') == 'my-camel-has-humps')\n",
    "assert(kebabize_v2('SOS') == 's-o-s')\n",
    "assert(kebabize_v2('42') == '')\n",
    "assert(kebabize_v2('CodeWars') == 'code-wars')"
   ]
  },
  {
   "cell_type": "markdown",
   "metadata": {},
   "source": [
    "`if char.isalpha()` added to the first statement removes the need for the second list completely! This feels like one of those chess moves that would be marked with an exclamation point for how beautiful it is.\n",
    "\n",
    "As a second step, there's not really a need to have two separate lines of code to join the list back as a string and then strip it when we might just as well chain the operations.\n",
    "\n",
    "Keeping a separate return statement might be unneccesarry, but it's something I rather like as a habit, due to the fact that when starting the skeleton of the function, I can just return the input and have my assert statement in place and then just add more transformations as needed without having the modify the return statement.\n",
    "\n",
    "We might go even further though, and end up with only one line of code;"
   ]
  },
  {
   "cell_type": "code",
   "execution_count": 110,
   "metadata": {},
   "outputs": [],
   "source": [
    "def kebabize_v3(string):\n",
    "    return ''.join('-' + char.lower() if char.isupper() else char for char in string if char.isalpha()).strip('-')\n",
    "\n",
    "assert(kebabize_v3('myCamelCasedString') == 'my-camel-cased-string')\n",
    "assert(kebabize_v3('myCamelHas3Humps') == 'my-camel-has-humps')\n",
    "assert(kebabize_v3('SOS') == 's-o-s')\n",
    "assert(kebabize_v3('42') == '')\n",
    "assert(kebabize_v3('CodeWars') == 'code-wars')"
   ]
  },
  {
   "cell_type": "markdown",
   "metadata": {},
   "source": [
    "### The Zen of Python\n",
    "This is similar to the highest voted solution on CodeWars and it's quite clever. To me though, this is adding complexity and reducing readability when too many transformation operations are nested inside one statement.\n",
    "\n",
    "To some extent, this is of course a matter of how familiar you are with the constructs of the language, but like above with removing negated logical statements, I feel that a bit more verbosity is worth it if it reduces the cognitive load when reading the code. I would thus settle for _v2_ as of now at least and refer to the Zen of Python; _Simple is better than complex_ and _Readability counts_, though someone might argue that v3 wins because of _Beautiful is better than ugly_."
   ]
  },
  {
   "cell_type": "code",
   "execution_count": 54,
   "metadata": {},
   "outputs": [
    {
     "name": "stdout",
     "output_type": "stream",
     "text": [
      "The Zen of Python, by Tim Peters\n",
      "\n",
      "Beautiful is better than ugly.\n",
      "Explicit is better than implicit.\n",
      "Simple is better than complex.\n",
      "Complex is better than complicated.\n",
      "Flat is better than nested.\n",
      "Sparse is better than dense.\n",
      "Readability counts.\n",
      "Special cases aren't special enough to break the rules.\n",
      "Although practicality beats purity.\n",
      "Errors should never pass silently.\n",
      "Unless explicitly silenced.\n",
      "In the face of ambiguity, refuse the temptation to guess.\n",
      "There should be one-- and preferably only one --obvious way to do it.\n",
      "Although that way may not be obvious at first unless you're Dutch.\n",
      "Now is better than never.\n",
      "Although never is often better than *right* now.\n",
      "If the implementation is hard to explain, it's a bad idea.\n",
      "If the implementation is easy to explain, it may be a good idea.\n",
      "Namespaces are one honking great idea -- let's do more of those!\n"
     ]
    }
   ],
   "source": [
    "import this"
   ]
  },
  {
   "cell_type": "markdown",
   "metadata": {},
   "source": [
    "### Benchmark It\n",
    "One additional concern to the readability and beauty of the code that sometimes needs to be taken into consideration is of course its performance. This three solutions are very similar so I wouldn't expect any big differences but as it's said; assumption makes an ass of u and, uhm, umption. Anyhow; trust but verify!"
   ]
  },
  {
   "cell_type": "code",
   "execution_count": 100,
   "metadata": {},
   "outputs": [
    {
     "name": "stdout",
     "output_type": "stream",
     "text": [
      "V1: 7.8543304819613695\n",
      "V2: 6.699023591994774\n",
      "V3: 7.412952462967951\n"
     ]
    }
   ],
   "source": [
    "import timeit\n",
    "\n",
    "test_string = 'myCamel1CasedAWESOME1String'\n",
    "n_runs = 1000000\n",
    "\n",
    "print(\"V1: {}\".format(timeit.timeit(lambda: kebabize_v1(test_string), number=n_runs)))\n",
    "print(\"V2: {}\".format(timeit.timeit(lambda: kebabize_v2(test_string), number=n_runs)))\n",
    "print(\"V3: {}\".format(timeit.timeit(lambda: kebabize_v3(test_string), number=n_runs)))"
   ]
  },
  {
   "cell_type": "markdown",
   "metadata": {},
   "source": [
    "Interesting! Repeating this multiple times yields the same results so something is clearly making the first and third version perform worse than the second.\n",
    "\n",
    "For the first one, it's quite clear that the second list operation is causing extra computation, but what is happening with the v3?\n",
    "\n",
    "Upon investigation, the difference is that while **in v2 I'm passing a list to the join function, in v3 it's a generator expression** that then gets evaluated dynamically. This turns out it adds a not insignificant overhead.\n",
    "\n",
    "Ensuring the list is generated before the join is called solves this problem and ensures an equivalent performance between v2 and the slightly adjusted short version;"
   ]
  },
  {
   "cell_type": "code",
   "execution_count": 107,
   "metadata": {},
   "outputs": [
    {
     "name": "stdout",
     "output_type": "stream",
     "text": [
      "V4: 6.750837345025502\n"
     ]
    }
   ],
   "source": [
    "def kebabize_v4(string):\n",
    "    return ''.join(['-' + char.lower() if char.isupper() else char for char in string if char.isalpha()]).strip('-')\n",
    "\n",
    "assert(kebabize_v4('myCamelCasedString') == 'my-camel-cased-string')\n",
    "assert(kebabize_v4('myCamelHas3Humps') == 'my-camel-has-humps')\n",
    "assert(kebabize_v4('SOS') == 's-o-s')\n",
    "assert(kebabize_v4('42') == '')\n",
    "assert(kebabize_v4('CodeWars') == 'code-wars')\n",
    "\n",
    "print(\"V4: {}\".format(timeit.timeit(lambda: kebabize_v4(test_string), number=n_runs)))"
   ]
  },
  {
   "cell_type": "markdown",
   "metadata": {},
   "source": [
    "### Takeaways\n",
    "- **Generator Expressions** - The lazy evaluation of generator expressions is oftentimes convenient, but seems to also cause some overhead at runtime at least in some cases which indicates it should be a deliberate decision when to use and not. On the upside for generator expressions; [they consume less memory](https://swizec.com/blog/python-and-lazy-evaluation/swizec/5148).\n",
    "- **Trust but verify** - On the surface trivial changes in code can turn out to have significant impact on performance. Thus, having benchmark tests ready is of great help when refactoring to avoid potentially negative surprises."
   ]
  },
  {
   "cell_type": "code",
   "execution_count": null,
   "metadata": {},
   "outputs": [],
   "source": []
  }
 ],
 "metadata": {
  "kernelspec": {
   "display_name": "Python 3",
   "language": "python",
   "name": "python3"
  },
  "language_info": {
   "codemirror_mode": {
    "name": "ipython",
    "version": 3
   },
   "file_extension": ".py",
   "mimetype": "text/x-python",
   "name": "python",
   "nbconvert_exporter": "python",
   "pygments_lexer": "ipython3",
   "version": "3.6.4"
  }
 },
 "nbformat": 4,
 "nbformat_minor": 2
}

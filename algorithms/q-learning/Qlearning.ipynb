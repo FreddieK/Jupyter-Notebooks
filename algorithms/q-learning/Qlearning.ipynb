{
 "cells": [
  {
   "cell_type": "markdown",
   "metadata": {},
   "source": [
    "# Q-learning with epsilon-greedy exploration\n",
    "On Frozen lake; https://gym.openai.com/envs/#toy_text"
   ]
  },
  {
   "cell_type": "code",
   "execution_count": 1,
   "metadata": {},
   "outputs": [],
   "source": [
    "import gym\n",
    "from gym.envs.toy_text import frozen_lake, discrete\n",
    "from gym.envs.registration import register\n",
    "\n",
    "register(\n",
    "    id='Deterministic-8x8-FrozenLake-v0',\n",
    "    entry_point='gym.envs.toy_text.frozen_lake:FrozenLakeEnv',\n",
    "    kwargs={'map_name': '8x8',\n",
    "            'is_slippery': False})\n",
    "\n",
    "register(\n",
    "    id='Stochastic-8x8-FrozenLake-v0',\n",
    "    entry_point='gym.envs.toy_text.frozen_lake:FrozenLakeEnv',\n",
    "    kwargs={'map_name': '8x8',\n",
    "            'is_slippery': True})"
   ]
  },
  {
   "cell_type": "code",
   "execution_count": 2,
   "metadata": {},
   "outputs": [],
   "source": [
    "import numpy as np"
   ]
  },
  {
   "cell_type": "code",
   "execution_count": 3,
   "metadata": {},
   "outputs": [],
   "source": [
    "# Set policy to be epsilon-greedy with regards to Q\n",
    "def sample_policy(Q, policy, state, epsilon = 0.05):\n",
    "    if np.random.random_sample() > epsilon:\n",
    "        # select best action\n",
    "        return policy[state]\n",
    "    else:\n",
    "        # return random action from Q\n",
    "        return np.random.choice(Q[state].shape[0])"
   ]
  },
  {
   "cell_type": "code",
   "execution_count": 4,
   "metadata": {},
   "outputs": [],
   "source": [
    "def run_episode(Q, policy, state=0, alpha = 0.05, gamma = 0.9, epsilon=0.05):\n",
    "    observation = env.reset()\n",
    "    max_steps=100\n",
    "    rewardTot = 0\n",
    "\n",
    "    # Loop\n",
    "    for t in range(max_steps):\n",
    "        #env.render()\n",
    "\n",
    "        # Sample action a_t from pi(s_t)\n",
    "        action = sample_policy(Q, policy, state, epsilon)\n",
    "\n",
    "        # Observe (r_t, s_t+1)\n",
    "        observation, reward, done, info = env.step(action)\n",
    "\n",
    "        # Update Q given (s_t, a_t, r_T, s_t+1)\n",
    "        # Q(s_t, a_t) <- Q(s_t, a_t) + alpha*(r_t + gamma*max_a'(Q(s_t+1, a')) - Q(s_t, a_t))\n",
    "        Q[state][action] += alpha*(reward + gamma*max(Q[observation]) - Q[state, action])\n",
    "        \n",
    "        if done:\n",
    "            # Hack to update actions leading to negative terminal states\n",
    "            Q[state][action] += alpha*(reward - Q[state, action])\n",
    "            \n",
    "\n",
    "        # Perform policy improvement\n",
    "        # pi(s_t) = argmax_a(q(s_t, a))\n",
    "        policy[state] = np.argmax(Q[state])\n",
    "\n",
    "        state = observation\n",
    "        rewardTot += reward\n",
    "\n",
    "        if done:\n",
    "            #print(\"Episode finished after {} timesteps\".format(t+1))\n",
    "            break\n",
    "    \n",
    "    return Q, policy, rewardTot"
   ]
  },
  {
   "cell_type": "code",
   "execution_count": 5,
   "metadata": {},
   "outputs": [],
   "source": [
    "def exploit(Q, policy, state=0):\n",
    "    observation = env.reset()\n",
    "    max_steps=100\n",
    "    rewardTot = 0\n",
    "\n",
    "    # Loop\n",
    "    for t in range(max_steps):\n",
    "#        env.render()\n",
    "\n",
    "        # Sample action a_t from pi(s_t)\n",
    "        action = policy[state]\n",
    "\n",
    "        # Observe (r_t, s_t+1)\n",
    "        observation, reward, done, info = env.step(action)\n",
    "\n",
    "    #    t = t+1\n",
    "        state = observation\n",
    "        \n",
    "        rewardTot += reward\n",
    "\n",
    "        if done:\n",
    "#            print(\"Episode finished after {} timesteps\".format(t+1))\n",
    "            break\n",
    "    \n",
    "    return Q, policy, rewardTot"
   ]
  },
  {
   "cell_type": "markdown",
   "metadata": {},
   "source": [
    "# Deterministic Environment"
   ]
  },
  {
   "cell_type": "code",
   "execution_count": 6,
   "metadata": {},
   "outputs": [
    {
     "name": "stderr",
     "output_type": "stream",
     "text": [
      "/Users/freddiekarlbom/opt/anaconda3/lib/python3.7/site-packages/gym/envs/registration.py:14: PkgResourcesDeprecationWarning: Parameters to load are deprecated.  Call .resolve and .require separately.\n",
      "  result = entry_point.load(False)\n"
     ]
    },
    {
     "name": "stdout",
     "output_type": "stream",
     "text": [
      "805\n",
      "100\n"
     ]
    }
   ],
   "source": [
    "env = gym.make('Deterministic-8x8-FrozenLake-v0')\n",
    "stateActionSpace = (env.nS, env.nA)\n",
    "Q = np.ones(stateActionSpace)/10\n",
    "policy = np.zeros(env.nS, dtype=int)\n",
    "\n",
    "# Training\n",
    "count_success = 0\n",
    "episodes = 1000\n",
    "for t in range(episodes):\n",
    "    Q, policy, rewardTot = run_episode(Q, policy, epsilon=0.05)\n",
    "    if rewardTot > 0:\n",
    "        count_success += 1\n",
    "print(count_success)\n",
    "\n",
    "# Exploit\n",
    "count_success = 0\n",
    "episodes = 100\n",
    "for t in range(episodes):\n",
    "    Q, policy, rewardTot = exploit(Q, policy)\n",
    "    if rewardTot > 0:\n",
    "        count_success += 1\n",
    "print(count_success)"
   ]
  },
  {
   "cell_type": "code",
   "execution_count": 7,
   "metadata": {},
   "outputs": [
    {
     "data": {
      "text/plain": [
       "array([2, 2, 2, 1, 1, 1, 1, 1, 2, 2, 2, 2, 2, 1, 2, 1, 0, 1, 1, 0, 2, 2,\n",
       "       2, 1, 2, 2, 2, 2, 1, 0, 2, 1, 3, 0, 3, 0, 2, 2, 2, 1, 1, 0, 0, 3,\n",
       "       3, 3, 0, 1, 2, 0, 2, 0, 0, 1, 0, 1, 3, 1, 1, 0, 1, 2, 2, 0])"
      ]
     },
     "execution_count": 7,
     "metadata": {},
     "output_type": "execute_result"
    }
   ],
   "source": [
    "policy"
   ]
  },
  {
   "cell_type": "code",
   "execution_count": 8,
   "metadata": {},
   "outputs": [
    {
     "data": {
      "text/plain": [
       "array([[0.09902432, 0.05312387, 0.26533161, 0.11286854],\n",
       "       [0.11888549, 0.08139651, 0.29481296, 0.0868545 ],\n",
       "       [0.16976234, 0.0961745 , 0.32756998, 0.10861084],\n",
       "       [0.13070887, 0.36396665, 0.09280044, 0.15315077],\n",
       "       [0.07290482, 0.24779959, 0.07322396, 0.07330038],\n",
       "       [0.07750351, 0.1779038 , 0.07810284, 0.07837858],\n",
       "       [0.08204794, 0.08210392, 0.08194849, 0.08183201],\n",
       "       [0.08433242, 0.08866192, 0.08433051, 0.08433891],\n",
       "       [0.05707376, 0.05711487, 0.07078875, 0.05690351],\n",
       "       [0.06102885, 0.06099156, 0.17033293, 0.06105352],\n",
       "       [0.06512938, 0.06549011, 0.31218165, 0.0653082 ],\n",
       "       [0.10701106, 0.05184222, 0.40440739, 0.12978284],\n",
       "       [0.17024282, 0.11312254, 0.44934154, 0.10163195],\n",
       "       [0.1801841 , 0.49926838, 0.09252147, 0.08872239],\n",
       "       [0.08438961, 0.08487626, 0.20246972, 0.08476423],\n",
       "       [0.08711056, 0.46071645, 0.08692452, 0.08669729],\n",
       "       [0.06149643, 0.06139858, 0.06146909, 0.0610522 ],\n",
       "       [0.06432794, 0.0648082 , 0.06447802, 0.06441044],\n",
       "       [0.06750958, 0.0693919 , 0.06615127, 0.06752405],\n",
       "       [0.1       , 0.1       , 0.1       , 0.1       ],\n",
       "       [0.07418945, 0.08107182, 0.28841678, 0.09715005],\n",
       "       [0.10954946, 0.05864382, 0.55474264, 0.22943638],\n",
       "       [0.19596646, 0.14882846, 0.61638072, 0.09926856],\n",
       "       [0.25140694, 0.68486746, 0.22978689, 0.15792285],\n",
       "       [0.06570833, 0.06569989, 0.06621647, 0.06537643],\n",
       "       [0.068159  , 0.06832664, 0.07789429, 0.06792513],\n",
       "       [0.07184402, 0.07184684, 0.10712335, 0.07165293],\n",
       "       [0.07735881, 0.07746754, 0.16182588, 0.06856096],\n",
       "       [0.08254859, 0.25886462, 0.07746754, 0.08309744],\n",
       "       [0.1       , 0.1       , 0.1       , 0.1       ],\n",
       "       [0.08958381, 0.09240962, 0.45986602, 0.09231192],\n",
       "       [0.17616755, 0.76096385, 0.24595596, 0.33262885],\n",
       "       [0.0687273 , 0.06854761, 0.06863437, 0.06880761],\n",
       "       [0.06948722, 0.06856096, 0.06934578, 0.06943921],\n",
       "       [0.07105289, 0.06856096, 0.06856096, 0.07112547],\n",
       "       [0.1       , 0.1       , 0.1       , 0.1       ],\n",
       "       [0.07418945, 0.08898266, 0.40127141, 0.08899461],\n",
       "       [0.09293108, 0.09288653, 0.57405754, 0.08958381],\n",
       "       [0.13460408, 0.07418945, 0.73665477, 0.09631613],\n",
       "       [0.36630457, 0.84551538, 0.3974166 , 0.26653925],\n",
       "       [0.07147372, 0.07151654, 0.06856096, 0.07108888],\n",
       "       [0.1       , 0.1       , 0.1       , 0.1       ],\n",
       "       [0.1       , 0.1       , 0.1       , 0.1       ],\n",
       "       [0.08512439, 0.08952212, 0.08938177, 0.08958381],\n",
       "       [0.09119193, 0.08512439, 0.09093888, 0.10524859],\n",
       "       [0.09319525, 0.09350629, 0.08958381, 0.12682411],\n",
       "       [0.1       , 0.1       , 0.1       , 0.1       ],\n",
       "       [0.07123098, 0.93946154, 0.29639589, 0.40117233],\n",
       "       [0.07404436, 0.07394544, 0.07418945, 0.07414708],\n",
       "       [0.1       , 0.1       , 0.1       , 0.1       ],\n",
       "       [0.08109976, 0.08470481, 0.08479371, 0.08109976],\n",
       "       [0.08728357, 0.08512439, 0.08512439, 0.08725228],\n",
       "       [0.1       , 0.1       , 0.1       , 0.1       ],\n",
       "       [0.094525  , 0.09874259, 0.094525  , 0.09657709],\n",
       "       [0.1       , 0.1       , 0.1       , 0.1       ],\n",
       "       [0.05589895, 1.04384615, 0.32114694, 0.34136984],\n",
       "       [0.07630555, 0.07628872, 0.07624267, 0.07646783],\n",
       "       [0.07889915, 0.0790373 , 0.07888257, 0.07746754],\n",
       "       [0.08154514, 0.08183201, 0.08109976, 0.08168979],\n",
       "       [0.1       , 0.1       , 0.1       , 0.1       ],\n",
       "       [0.094525  , 0.0995    , 0.0994775 , 0.094525  ],\n",
       "       [0.09857375, 0.0990025 , 0.14788928, 0.09892426],\n",
       "       [0.0995    , 0.0995    , 0.53382936, 0.1       ],\n",
       "       [0.1       , 0.1       , 0.1       , 0.1       ]])"
      ]
     },
     "execution_count": 8,
     "metadata": {},
     "output_type": "execute_result"
    }
   ],
   "source": [
    "Q"
   ]
  },
  {
   "cell_type": "markdown",
   "metadata": {},
   "source": [
    "# Stochastic Next-State"
   ]
  },
  {
   "cell_type": "code",
   "execution_count": 9,
   "metadata": {},
   "outputs": [
    {
     "name": "stdout",
     "output_type": "stream",
     "text": [
      "6192\n",
      "94\n"
     ]
    }
   ],
   "source": [
    "env = gym.make(\"Stochastic-8x8-FrozenLake-v0\")\n",
    "stateActionSpace = (env.nS, env.nA)\n",
    "Q = np.ones(stateActionSpace)/10\n",
    "policy = np.zeros(env.nS, dtype=int)\n",
    "\n",
    "# Training\n",
    "count_success = 0\n",
    "episodes = 100000\n",
    "for t in range(episodes):\n",
    "    Q, policy, rewardTot = run_episode(Q, policy, epsilon=0.05)\n",
    "    if rewardTot > 0:\n",
    "        count_success += 1\n",
    "print(count_success)\n",
    "\n",
    "# Exploit\n",
    "count_success = 0\n",
    "episodes = 1000\n",
    "for t in range(episodes):\n",
    "    Q, policy, rewardTot = exploit(Q, policy)\n",
    "    if rewardTot > 0:\n",
    "        count_success += 1\n",
    "print(count_success)"
   ]
  },
  {
   "cell_type": "code",
   "execution_count": 10,
   "metadata": {},
   "outputs": [
    {
     "data": {
      "text/plain": [
       "array([1, 2, 2, 2, 2, 2, 2, 2, 1, 2, 2, 2, 1, 2, 2, 1, 1, 1, 2, 0, 1, 2,\n",
       "       1, 1, 1, 2, 2, 2, 1, 0, 2, 2, 1, 1, 1, 0, 1, 1, 3, 2, 1, 0, 0, 3,\n",
       "       2, 0, 0, 2, 3, 0, 3, 0, 0, 0, 0, 2, 2, 2, 2, 0, 2, 2, 1, 0])"
      ]
     },
     "execution_count": 10,
     "metadata": {},
     "output_type": "execute_result"
    }
   ],
   "source": [
    "policy"
   ]
  },
  {
   "cell_type": "code",
   "execution_count": 11,
   "metadata": {},
   "outputs": [
    {
     "data": {
      "text/plain": [
       "array([[0.01651028, 0.01753517, 0.01680936, 0.01672343],\n",
       "       [0.01829638, 0.01933268, 0.02095914, 0.01927081],\n",
       "       [0.02330581, 0.02303497, 0.02628005, 0.02237178],\n",
       "       [0.0261381 , 0.02770425, 0.03138157, 0.02555673],\n",
       "       [0.02983019, 0.02976232, 0.03264633, 0.02979662],\n",
       "       [0.03395294, 0.03452448, 0.03709067, 0.0346706 ],\n",
       "       [0.04047912, 0.04011374, 0.04541233, 0.03887344],\n",
       "       [0.04466856, 0.04372812, 0.04975323, 0.04319855],\n",
       "       [0.01838354, 0.01951367, 0.01885608, 0.01770295],\n",
       "       [0.02068726, 0.02156359, 0.022474  , 0.02132186],\n",
       "       [0.026187  , 0.02727449, 0.02950282, 0.02678904],\n",
       "       [0.0340947 , 0.03211652, 0.03978601, 0.02924798],\n",
       "       [0.03362064, 0.03722421, 0.03506622, 0.03434472],\n",
       "       [0.03825183, 0.03844505, 0.04265316, 0.03801734],\n",
       "       [0.04938037, 0.048696  , 0.05645839, 0.0468888 ],\n",
       "       [0.05778968, 0.06196513, 0.05541034, 0.0536842 ],\n",
       "       [0.02147761, 0.02312187, 0.02154992, 0.02143408],\n",
       "       [0.02338347, 0.0282825 , 0.02542437, 0.02499949],\n",
       "       [0.02898605, 0.03124509, 0.03783913, 0.03129117],\n",
       "       [0.1       , 0.1       , 0.1       , 0.1       ],\n",
       "       [0.04083024, 0.04225363, 0.03938226, 0.04075058],\n",
       "       [0.0411972 , 0.04564966, 0.0467447 , 0.04396257],\n",
       "       [0.06309265, 0.07149737, 0.06876773, 0.05832235],\n",
       "       [0.07499635, 0.09912958, 0.08077496, 0.07629531],\n",
       "       [0.02519063, 0.02664716, 0.02596096, 0.02494139],\n",
       "       [0.02833998, 0.02886798, 0.03124496, 0.02707866],\n",
       "       [0.03236618, 0.03492539, 0.036644  , 0.03338629],\n",
       "       [0.04098622, 0.03956454, 0.04277424, 0.03846923],\n",
       "       [0.03993635, 0.04218236, 0.04128575, 0.04124077],\n",
       "       [0.1       , 0.1       , 0.1       , 0.1       ],\n",
       "       [0.06919972, 0.08341606, 0.10099747, 0.08044154],\n",
       "       [0.12948472, 0.12745616, 0.16471169, 0.10862004],\n",
       "       [0.02921731, 0.03272198, 0.03059284, 0.0305644 ],\n",
       "       [0.03637684, 0.03766446, 0.03659767, 0.03201244],\n",
       "       [0.03849083, 0.04102552, 0.03990029, 0.03896783],\n",
       "       [0.1       , 0.1       , 0.1       , 0.1       ],\n",
       "       [0.04185105, 0.04732448, 0.04468049, 0.04482838],\n",
       "       [0.04970998, 0.06431449, 0.05623824, 0.05631732],\n",
       "       [0.05621654, 0.07294586, 0.0821485 , 0.13142214],\n",
       "       [0.20808287, 0.20073808, 0.2464807 , 0.15550184],\n",
       "       [0.03330669, 0.04102109, 0.03679747, 0.03765325],\n",
       "       [0.1       , 0.1       , 0.1       , 0.1       ],\n",
       "       [0.1       , 0.1       , 0.1       , 0.1       ],\n",
       "       [0.04295685, 0.04271977, 0.04299205, 0.04332716],\n",
       "       [0.04235991, 0.04511876, 0.04570299, 0.04563932],\n",
       "       [0.05643366, 0.05121279, 0.05291604, 0.04690764],\n",
       "       [0.1       , 0.1       , 0.1       , 0.1       ],\n",
       "       [0.28042522, 0.18324264, 0.44320857, 0.16800331],\n",
       "       [0.03450329, 0.0355803 , 0.03661105, 0.03896241],\n",
       "       [0.1       , 0.1       , 0.1       , 0.1       ],\n",
       "       [0.04617707, 0.04623693, 0.04614083, 0.04631918],\n",
       "       [0.04436225, 0.04431732, 0.04434582, 0.04431576],\n",
       "       [0.1       , 0.1       , 0.1       , 0.1       ],\n",
       "       [0.1008694 , 0.08030359, 0.07806082, 0.04909232],\n",
       "       [0.1       , 0.1       , 0.1       , 0.1       ],\n",
       "       [0.60472544, 0.69270381, 0.84211013, 0.31749124],\n",
       "       [0.03305654, 0.03299495, 0.03369808, 0.03319722],\n",
       "       [0.03918721, 0.03917359, 0.03948967, 0.03943089],\n",
       "       [0.0432641 , 0.04326344, 0.04333693, 0.04330638],\n",
       "       [0.1       , 0.1       , 0.1       , 0.1       ],\n",
       "       [0.06176987, 0.06947021, 0.09615134, 0.06194347],\n",
       "       [0.13140354, 0.19509839, 0.36679906, 0.18709536],\n",
       "       [0.13049838, 0.8532187 , 0.17407391, 0.23266721],\n",
       "       [0.1       , 0.1       , 0.1       , 0.1       ]])"
      ]
     },
     "execution_count": 11,
     "metadata": {},
     "output_type": "execute_result"
    }
   ],
   "source": [
    "Q"
   ]
  }
 ],
 "metadata": {
  "kernelspec": {
   "display_name": "Python 3",
   "language": "python",
   "name": "python3"
  },
  "language_info": {
   "codemirror_mode": {
    "name": "ipython",
    "version": 3
   },
   "file_extension": ".py",
   "mimetype": "text/x-python",
   "name": "python",
   "nbconvert_exporter": "python",
   "pygments_lexer": "ipython3",
   "version": "3.7.6"
  }
 },
 "nbformat": 4,
 "nbformat_minor": 4
}

{
 "cells": [
  {
   "cell_type": "markdown",
   "metadata": {},
   "source": [
    "# Decision Trees (CART)\n",
    "\n",
    "With some time on my hand, I decided I wanted to dig deeper into some of the workhorse algorithms of modern machine learning, namely gradient boosting machines and random forest.\n",
    "\n",
    "Starting with [GBM](https://en.wikipedia.org/wiki/Gradient_boosting) (and AdaBoost), the basic intuition behind the algorithm turned out to be almost embarassingly obvious (will return to that in another post), but the devil is really in the details.\n",
    "\n",
    "What I had a hard time understanding was rather how a decision tree could be used to predict a continuous target variable, as well as for how the breakpoints would be set for continuous predictor variables.\n",
    "\n",
    "Thus began some digging and experimenting.\n",
    "\n",
    "## Pseudo algorithm\n",
    "1. Starting with the complete dataset, identify the feature and threshold that has the highest prediction power and split the tree based on that\n",
    "2. Recursively keep growing the tree greedily until stopping criterias are met (depth, lack of improvement, threshold on min number of examples in the leaf etc.)\n",
    "3. Prune tree, and other optimisations\n",
    "\n",
    "## Classification\n",
    "When reading online, you find tons of examples of building a classification tree, either using [Gini impurity](https://en.wikipedia.org/wiki/Decision_tree_learning#Gini_impurity) or Information Gain. Based in information theory, the idea is to reduce the entropy (amount of information needed to describe the data) as much as possible with each split.\n",
    "\n",
    "### Information Gain / Entropy\n",
    "$$Entropy(S) = \\sum_{i=1}^c{-p_i\\log_2{p_i}}$$\n",
    "\n",
    "$$Gain(S,A) = Entropy(S) - \\sum_{v \\in Values(A)}{\\frac{|S_v|}{|S|}Entropy(S_v)}$$\n",
    "\n",
    "Where $Values(A)$ is the set of possible values for the\n",
    "attribute $A$ and $S_v$ is the subset of $S$ for which attribute\n",
    "$A$ has value $v$.\n",
    "\n",
    "Information Gain is the expected reduction in entropy caused by knowing the value of attribute A. The attribute which will mean the largest information gain will be chosen for the split.\n",
    "\n",
    "### Gain Ratio\n",
    "Information gain favours attributes with many possible values. An alternative is to calculate the gain ratio.\n",
    "\n",
    "$$GainRatio(S,A) = \\frac{Gain(S,A)}{SplitInfo(S,A}$$\n",
    "\n",
    "$$SplitInfo(S,A) = -\\sum_{i=1}^c{\\frac{|S_i|}{|S|}\\log_2{\\frac{|S_i|}{|S|}}}$$\n",
    "\n",
    "This can explode (or become undefined) if $S≈S_i$, in order to avoid this you can calculate the gain ratio only on attributes with higher than average gain.\n",
    "\n",
    "### Handling continuous predictors\n",
    "Dynamically create factor variables $A_c$ that is true if $A < c$.\n",
    "\n",
    "1. Identify adjacent examples of $A$ with differing target values (if the target is the same, the break point won't make any sense).\n",
    "2. Generate $c$ suggestion as the mean between the adjacent rows.\n",
    "3. Repeat for all examples until you have a list of candidate breakpoints.\n",
    "4. Identify which candidate suggestion that maximises information gain (and compare that to other attributes)\n",
    "\n",
    "## Regression\n",
    "Since the Gradient Boosting algorithm uses additive forward expansion to build an ensemble model out of multiple trees, each tree will need to output values that can be summed up.\n",
    "\n",
    "Thus, we need regression trees that predicts a continuous value and not a class.\n",
    "\n",
    "### Splitting points\n",
    "Instead of information gain, we can compare the squared error in the generated sets based on different splits and choose the split that minimises the error. $\\hat{y}$ in each leaf is the mean of the rows in that branch.\n",
    "\n",
    "Using MSE (CART standard):\n",
    "\n",
    "$$MSE = \\frac{1}{n}\\sum_{i=1}^n{(\\hat{Y_i}-Y_i)^2}$$\n",
    "\n",
    "Which for the branch after a split becomes:\n",
    "\n",
    "$$MSE = \\frac{1}{n}\\sum_{k=1}^2{\\sum_{i=1}^n{(\\hat{Y_{ki}}-Y_{ki})^2}}$$\n",
    "\n",
    "After comparison, the tree candidate with the lowest MSE is chosen.\n",
    "\n",
    "I ended up using the summed squared error (SSE), but since the number of items it the same for all candidates, it's functionally equivalent.\n",
    "\n",
    "### How the final leaf prediction is calculated\n",
    "Like when comparing the different splits, the final leafs of the tree uses the mean of the rows for prediction.\n",
    "\n",
    "An alternative is to select the median, which is used when using [a GBM with L1 loss to build the tree](http://explained.ai/gradient-boosting/L1-loss.html) (L1 instead of L2 to give outliers less of an impact on the trees).\n",
    "\n",
    "## Post Construction\n",
    "\n",
    "### Pruning\n",
    "After tree is constructed, compare the predictions at each node with a validation set. If a tree after a certain point gives no improvement (or leads to worse result) going deeper, then remove the subtree and replace the node with a leaf node of the most common class.\n",
    "\n",
    "#### Rule Post Pruning\n",
    "Convert tree to rules, with one rule per branch. Then prune rules by removing preconditions if it leads to an improved estimated accuracy. Sort the pruned rules according to estimated accuracy to ensure the most accurate rules are considered before moving down to less accurate.\n",
    "\n",
    "## Implementation\n",
    "Finding the information about how to do the splitting for the regression tree was among the harder things, as most material I found only dealt with classification trees and just mentioned regression in passing.\n",
    "\n",
    "Once I'd pieced together the information for how to create a split, it took me a few tries to get the recursion of the tree right (clearly out of practice implementing algorithms.\n",
    "\n",
    "On the third try, I got something decent enough to serve as a base."
   ]
  },
  {
   "cell_type": "code",
   "execution_count": 45,
   "metadata": {},
   "outputs": [],
   "source": [
    "import pandas as pd\n",
    "import numpy as np\n",
    "\n",
    "max_depth = 3\n",
    "min_samples = 5\n",
    "\n",
    "def find_split(set_):\n",
    "    best_SSE = None\n",
    "    best_split = None\n",
    "    for index, row in set_.iterrows():\n",
    "        SSE = 0\n",
    "        branches = [set_[set_['x'] < row['x']], \n",
    "                    set_[~(set_['x'] < row['x'])]]\n",
    "        for branch in branches:\n",
    "            y_pred = branch['y'].mean()\n",
    "            SSE += np.sum((y_pred - branch['y'])**2)\n",
    "        if (best_SSE == None) or (SSE < best_SSE):\n",
    "            best_SSE = SSE\n",
    "            best_split = {\n",
    "                'SSE' : SSE,\n",
    "                'split_point' : row['x'],\n",
    "                'left' : branches[0],\n",
    "                'right' : branches[1]\n",
    "            }\n",
    "    return best_split\n",
    "\n",
    "\n",
    "def iterate(node, set_, depth):\n",
    "    if depth >= max_depth:\n",
    "        # Return value\n",
    "        node['value'] = set_['y'].mean()\n",
    "        return\n",
    "    if len(set_) <= min_samples:\n",
    "        node['value'] = set_['y'].mean()\n",
    "        return\n",
    "\n",
    "    # Calculate best split and get groups\n",
    "    split = find_split(set_)\n",
    "    node['split_point'] = split['split_point']\n",
    "    node['split_SSE'] = split['SSE']\n",
    "    \n",
    "    node['left'] = {'depth': depth}\n",
    "    iterate(node['left'], split['left'], depth+1)\n",
    "    \n",
    "    node['right'] = {'depth': depth}\n",
    "    iterate(node['right'], split['right'], depth+1)\n",
    "    return node\n",
    "\n",
    "\n",
    "def predict(node, row):\n",
    "    if 'value' in node:\n",
    "        return node['value']\n",
    "\n",
    "    if row < node['split_point']:\n",
    "        return predict(node['left'], row)\n",
    "    else:\n",
    "        return predict(node['right'], row)"
   ]
  },
  {
   "cell_type": "code",
   "execution_count": 46,
   "metadata": {},
   "outputs": [],
   "source": [
    "from sklearn.datasets import load_iris\n",
    "iris = load_iris()\n",
    "df = pd.DataFrame(iris.data, columns=iris.feature_names)\n",
    "\n",
    "set_ = pd.DataFrame(data={'x': df['sepal length (cm)'], \n",
    "                   'y': df['sepal width (cm)']})\n",
    "\n",
    "iris = iterate({}, set_, 1)"
   ]
  },
  {
   "cell_type": "code",
   "execution_count": 47,
   "metadata": {},
   "outputs": [
    {
     "data": {
      "text/plain": [
       "{'split_point': 5.5,\n",
       " 'split_SSE': 25.411134222919934,\n",
       " 'left': {'depth': 1,\n",
       "  'split_point': 5.1,\n",
       "  'split_SSE': 8.087187499999999,\n",
       "  'left': {'depth': 2, 'value': 3.090625},\n",
       "  'right': {'depth': 2, 'value': 3.5}},\n",
       " 'right': {'depth': 1,\n",
       "  'split_point': 6.7,\n",
       "  'split_SSE': 14.528428571428572,\n",
       "  'left': {'depth': 2, 'value': 2.9014285714285712},\n",
       "  'right': {'depth': 2, 'value': 3.0928571428571425}}}"
      ]
     },
     "execution_count": 47,
     "metadata": {},
     "output_type": "execute_result"
    }
   ],
   "source": [
    "iris"
   ]
  },
  {
   "cell_type": "code",
   "execution_count": 48,
   "metadata": {},
   "outputs": [
    {
     "name": "stdout",
     "output_type": "stream",
     "text": [
      "3.090625\n"
     ]
    }
   ],
   "source": [
    "print(predict(iris, 5))"
   ]
  },
  {
   "cell_type": "markdown",
   "metadata": {},
   "source": [
    "## Takeaways\n",
    "- The basic algorithm is surprisingly simple once you wrap your head around it\n",
    "- It becomes clear from an information theory perspective that Machine Learning basically is the same as data compression. From a high entropy dataset, we produce a more condensed model that with some loss is able to recreate the initial set.\n",
    "\n",
    "## Next Steps\n",
    "- Implement support for handling multiple features (including categorical)\n",
    "- Support taking DF for predictions, to properly assess performance\n",
    "- Write GBM that can use the trees to make more powerful predictions"
   ]
  }
 ],
 "metadata": {
  "kernelspec": {
   "display_name": "Python 3",
   "language": "python",
   "name": "python3"
  },
  "language_info": {
   "codemirror_mode": {
    "name": "ipython",
    "version": 3
   },
   "file_extension": ".py",
   "mimetype": "text/x-python",
   "name": "python",
   "nbconvert_exporter": "python",
   "pygments_lexer": "ipython3",
   "version": "3.7.0"
  }
 },
 "nbformat": 4,
 "nbformat_minor": 2
}

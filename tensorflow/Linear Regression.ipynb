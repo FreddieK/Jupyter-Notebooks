{
 "cells": [
  {
   "cell_type": "markdown",
   "metadata": {},
   "source": [
    "## Linear Regression using Tensorflow\n",
    "\n",
    "- Polynomial\n",
    "- Cost function"
   ]
  },
  {
   "cell_type": "code",
   "execution_count": 1,
   "metadata": {},
   "outputs": [
    {
     "name": "stderr",
     "output_type": "stream",
     "text": [
      "/Users/freddiekarlbom/anaconda/lib/python3.6/site-packages/h5py/__init__.py:36: FutureWarning: Conversion of the second argument of issubdtype from `float` to `np.floating` is deprecated. In future, it will be treated as `np.float64 == np.dtype(float).type`.\n",
      "  from ._conv import register_converters as _register_converters\n"
     ]
    }
   ],
   "source": [
    "import matplotlib.pyplot as plt\n",
    "import numpy as np\n",
    "import tensorflow as tf"
   ]
  },
  {
   "cell_type": "code",
   "execution_count": 2,
   "metadata": {},
   "outputs": [],
   "source": [
    "trX = np.linspace(-1, 1, 101)\n",
    "trY = 2 * trX + np.random.randn(*trX.shape) * 0.4 + 0.2"
   ]
  },
  {
   "cell_type": "code",
   "execution_count": 3,
   "metadata": {},
   "outputs": [
    {
     "data": {
      "image/png": "[encoded data removed]",
      "text/plain": [
       "<matplotlib.figure.Figure at 0x18215e3400>"
      ]
     },
     "metadata": {},
     "output_type": "display_data"
    }
   ],
   "source": [
    "plt.figure()\n",
    "plt.scatter(trX, trY)\n",
    "plt.plot (trX, 0.2 + 2 * trX)\n",
    "plt.show()"
   ]
  },
  {
   "cell_type": "code",
   "execution_count": 4,
   "metadata": {},
   "outputs": [],
   "source": [
    "X = tf.placeholder(\"float\", name=\"X\")\n",
    "Y = tf.placeholder(\"float\", name=\"Y\")"
   ]
  },
  {
   "cell_type": "code",
   "execution_count": 5,
   "metadata": {},
   "outputs": [],
   "source": [
    "with tf.name_scope(\"Model\"):\n",
    "    def model(X, w, b):\n",
    "        return tf.multiply(X, w) + b\n",
    "    \n",
    "    w = tf.Variable(-1.0, name=\"b0\")\n",
    "    b = tf.Variable(-3.0, name=\"b1\")\n",
    "    y_model = model(X, w, b)"
   ]
  },
  {
   "cell_type": "code",
   "execution_count": 6,
   "metadata": {},
   "outputs": [],
   "source": [
    "with tf.name_scope(\"CostFunction\"):\n",
    "    cost = (tf.pow(Y-y_model, 2)) # Squared error for cost"
   ]
  },
  {
   "cell_type": "code",
   "execution_count": 7,
   "metadata": {},
   "outputs": [],
   "source": [
    "log_path = './linear_regression'\n",
    "learning_rate = 0.005\n",
    "iterations = 20\n",
    "\n",
    "train_op = tf.train.GradientDescentOptimizer(learning_rate).minimize(cost)\n",
    "\n",
    "sess = tf.Session()\n",
    "init = tf.global_variables_initializer()\n",
    "\n",
    "tf.train.write_graph(sess.graph, log_path, 'graph.pbtxt')\n",
    "\n",
    "cost_op = tf.summary.scalar(\"loss\", cost)\n",
    "\n",
    "merged = tf.summary.merge_all()\n",
    "\n",
    "sess.run(init)\n",
    "\n",
    "writer = tf.summary.FileWriter(log_path, sess.graph)"
   ]
  },
  {
   "cell_type": "code",
   "execution_count": null,
   "metadata": {},
   "outputs": [],
   "source": [
    "for i in range(iterations):\n",
    "    for (x, y) in zip(trX, trY):\n",
    "        sess.run(train_op, feed_dict={X: x, Y: y})\n",
    "        summary_str = sess.run(cost_op, feed_dict={X: x, Y: y})\n",
    "        writer.add_summary(summary_str, i)\n",
    "    b0temp = b.eval(session=sess)\n",
    "    b1temp = w.eval(session=sess)\n",
    "    \n",
    "    # Store and create animated .gif instead\n",
    "    plt.plot(trX, b0temp + b1temp*trX)\n",
    "    plt.scatter(trX, trY)\n",
    "plt.show()\n",
    "\n",
    "# How plot as gif? Or save as gif so it can be imported in markdown below"
   ]
  },
  {
   "cell_type": "code",
   "execution_count": 24,
   "metadata": {},
   "outputs": [
    {
     "name": "stdout",
     "output_type": "stream",
     "text": [
      "Y = 2.0756661891937256*X + 0.2430833876132965\n"
     ]
    }
   ],
   "source": [
    "print(\"Y = {w}*X + {b}\".format(w=sess.run(w), b=sess.run(b)))\n",
    "\n",
    "# - Format numbers to only have 2 decimals\n",
    "# - How get this into a Latex equation for prettier output?"
   ]
  },
  {
   "cell_type": "code",
   "execution_count": null,
   "metadata": {},
   "outputs": [],
   "source": []
  }
 ],
 "metadata": {
  "kernelspec": {
   "display_name": "Python 3",
   "language": "python",
   "name": "python3"
  },
  "language_info": {
   "codemirror_mode": {
    "name": "ipython",
    "version": 3
   },
   "file_extension": ".py",
   "mimetype": "text/x-python",
   "name": "python",
   "nbconvert_exporter": "python",
   "pygments_lexer": "ipython3",
   "version": "3.6.4"
  }
 },
 "nbformat": 4,
 "nbformat_minor": 2
}
